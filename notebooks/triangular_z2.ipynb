{
 "cells": [
  {
   "cell_type": "markdown",
   "metadata": {},
   "source": [
    "# Triangular Z2 demo (Energy spectrum and ground-state distributions)"
   ]
  },
  {
   "cell_type": "code",
   "execution_count": null,
   "metadata": {},
   "outputs": [],
   "source": [
    "import numpy as np\n",
    "import matplotlib.pyplot as plt\n",
    "import jax.numpy as jnp\n",
    "from heavyhex_qft.triangular_z2 import TriangularZ2Lattice"
   ]
  },
  {
   "cell_type": "markdown",
   "metadata": {},
   "source": [
    "## 2 plaquettes"
   ]
  },
  {
   "cell_type": "code",
   "execution_count": 34,
   "metadata": {},
   "outputs": [],
   "source": [
    "configuration = '''\n",
    " *\n",
    "* *\n",
    " *\n",
    "'''\n",
    "lattice = TriangularZ2Lattice(configuration)\n",
    "\n",
    "hamiltonian = lattice.make_hamiltonian(0.5)\n",
    "\n",
    "flt = lattice.charge_subspace([0] * lattice.num_vertices)\n",
    "subspace_hamiltonian = hamiltonian.to_matrix()[flt[:, None], flt[None, :]]\n",
    "evals, evecs = np.linalg.eigh(subspace_hamiltonian)"
   ]
  },
  {
   "cell_type": "code",
   "execution_count": null,
   "metadata": {},
   "outputs": [],
   "source": [
    "plt.scatter(np.arange(evals.shape[0]), evals)\n",
    "plt.title('5-qubit model, Gauss sector 0 (4 dim)')\n",
    "plt.xlabel('Index', fontsize=14)\n",
    "plt.ylabel('Energy eigenvalue', fontsize=14)"
   ]
  },
  {
   "cell_type": "code",
   "execution_count": null,
   "metadata": {},
   "outputs": [],
   "source": [
    "plt.scatter(np.arange(evals.shape[0]), np.square(np.abs(evecs[:, 0])))\n",
    "plt.title('5-qubit model, Gauss sector 0 ground state distribution')\n",
    "plt.xlabel('State index', fontsize=14)\n",
    "plt.ylabel('Probability', fontsize=14)\n",
    "plt.ylim(-0.02, 1.02)\n",
    "plt.grid(True, axis='y')"
   ]
  },
  {
   "cell_type": "markdown",
   "metadata": {},
   "source": [
    "## 6 plaquettes, Gauss sector 0"
   ]
  },
  {
   "cell_type": "code",
   "execution_count": 8,
   "metadata": {},
   "outputs": [],
   "source": [
    "configuration = '''\n",
    " * *\n",
    "* * *\n",
    " * *\n",
    "'''\n",
    "lattice = TriangularZ2Lattice(configuration)\n",
    "\n",
    "hamiltonian = lattice.make_hamiltonian(0.5)\n",
    "\n",
    "flt = lattice.charge_subspace([0] * lattice.num_vertices)\n",
    "subspace_hamiltonian = hamiltonian.to_matrix()[flt[:, None], flt[None, :]]\n",
    "evals, evecs = np.linalg.eigh(subspace_hamiltonian)"
   ]
  },
  {
   "cell_type": "code",
   "execution_count": null,
   "metadata": {},
   "outputs": [],
   "source": [
    "indices = np.arange(evals.shape[0])\n",
    "plt.scatter(indices, evals)\n",
    "plt.title('12-qubit model, Gauss sector 0 (64 dim)')\n",
    "plt.xlabel('Index', fontsize=14)\n",
    "plt.ylabel('Energy eigenvalue', fontsize=14)"
   ]
  },
  {
   "cell_type": "code",
   "execution_count": null,
   "metadata": {},
   "outputs": [],
   "source": [
    "gs_probs = np.square(np.abs(evecs[:, 0]))\n",
    "plt.scatter(indices, gs_probs)\n",
    "plt.title('12-qubit model, Gauss sector 0 ground state distribution')\n",
    "plt.xlabel('State index')\n",
    "plt.ylabel('Probability')\n",
    "plt.ylim(-0.02, 1.02)\n",
    "plt.grid(True, axis='y')"
   ]
  },
  {
   "cell_type": "code",
   "execution_count": null,
   "metadata": {},
   "outputs": [],
   "source": [
    "sorted_prob = np.sort(gs_probs)[::-1]\n",
    "gs_cumul = np.cumsum(sorted_prob)\n",
    "plt.scatter(indices, gs_cumul)\n",
    "plt.title('12-qubit model, Gauss sector 0 ground state CDF')\n",
    "plt.xlabel('State index (sorted)')\n",
    "plt.ylabel('Cumulative probability')\n",
    "plt.ylim(-0.02, 1.02)\n",
    "plt.grid(True, axis='y')"
   ]
  },
  {
   "cell_type": "code",
   "execution_count": null,
   "metadata": {},
   "outputs": [],
   "source": [
    "plt.plot(gs_cumul, sorted_prob)\n",
    "plt.title('12-qubit model, Gauss sector 0 concentration')\n",
    "plt.xlabel(r'$\\alpha = \\sum_{j=0}^{n} |c_j|^2$')\n",
    "plt.ylabel(r'$\\beta = |c_n|^2$')\n",
    "plt.ylim(-0.02, 1.02)\n",
    "plt.grid(True)"
   ]
  },
  {
   "cell_type": "markdown",
   "metadata": {},
   "source": [
    "## 6 plaquettes, Gauss sector 1 (two odd vertices)"
   ]
  },
  {
   "cell_type": "code",
   "execution_count": 13,
   "metadata": {},
   "outputs": [],
   "source": [
    "configuration = '''\n",
    " * *\n",
    "* * *\n",
    " * *\n",
    "'''\n",
    "lattice = TriangularZ2Lattice(configuration)\n",
    "\n",
    "hamiltonian = lattice.make_hamiltonian(0.5)\n",
    "\n",
    "target_parity = [0] * lattice.num_vertices\n",
    "target_parity[0] = 1\n",
    "target_parity[6] = 1\n",
    "flt = lattice.charge_subspace(target_parity)\n",
    "subspace_hamiltonian = hamiltonian.to_matrix()[flt[:, None], flt[None, :]]\n",
    "evals, evecs = np.linalg.eigh(subspace_hamiltonian)"
   ]
  },
  {
   "cell_type": "code",
   "execution_count": null,
   "metadata": {},
   "outputs": [],
   "source": [
    "indices = np.arange(evals.shape[0])\n",
    "plt.scatter(indices, evals)\n",
    "plt.title('12-qubit model, Gauss sector 1 (64 dim)')\n",
    "plt.xlabel('Index')\n",
    "plt.ylabel('Energy eigenvalue')"
   ]
  },
  {
   "cell_type": "code",
   "execution_count": null,
   "metadata": {},
   "outputs": [],
   "source": [
    "gs_probs = np.square(np.abs(evecs[:, 0]))\n",
    "plt.scatter(indices, gs_probs)\n",
    "plt.title('12-qubit model, Gauss sector 1 ground state distribution')\n",
    "plt.xlabel('State index')\n",
    "plt.ylabel('Probability')\n",
    "plt.ylim(-0.02, 1.02)\n",
    "plt.grid(True, axis='y')"
   ]
  },
  {
   "cell_type": "code",
   "execution_count": null,
   "metadata": {},
   "outputs": [],
   "source": [
    "sorted_prob = np.sort(gs_probs)[::-1]\n",
    "gs_cumul = np.cumsum(sorted_prob)\n",
    "plt.scatter(indices, gs_cumul)\n",
    "plt.title('12-qubit model, Gauss sector 1 ground state CDF')\n",
    "plt.xlabel('State index (sorted)')\n",
    "plt.ylabel('Cumulative probability')\n",
    "plt.ylim(-0.02, 1.02)\n",
    "plt.grid(True, axis='y')"
   ]
  },
  {
   "cell_type": "code",
   "execution_count": null,
   "metadata": {},
   "outputs": [],
   "source": [
    "plt.plot(gs_cumul, sorted_prob)\n",
    "plt.title('12-qubit model, Gauss sector 1 concentration')\n",
    "plt.xlabel(r'$\\alpha = \\sum_{j=0}^{n} |c_j|^2$')\n",
    "plt.ylabel(r'$\\beta = |c_n|^2$')\n",
    "plt.ylim(-0.02, 1.02)\n",
    "plt.grid(True)"
   ]
  },
  {
   "cell_type": "markdown",
   "metadata": {},
   "source": [
    "## 14 plaquettes"
   ]
  },
  {
   "cell_type": "code",
   "execution_count": 18,
   "metadata": {},
   "outputs": [],
   "source": [
    "configuration = '''\n",
    " * * * *\n",
    "* * * * *\n",
    " * * * *\n",
    "'''\n",
    "lattice = TriangularZ2Lattice(configuration)\n",
    "\n",
    "hamiltonian = lattice.make_hamiltonian(0.5)\n",
    "target_parity = [0] * lattice.num_vertices\n",
    "target_parity[4] = 1\n",
    "target_parity[8] = 1\n",
    "flt = lattice.charge_subspace(target_parity)\n",
    "subspace_hamiltonian = hamiltonian.to_matrix(sparse=True)[flt[:, None], flt[None, :]]\n",
    "subspace_hamiltonian = jnp.array(subspace_hamiltonian.todense())\n",
    "evals, evecs = jnp.linalg.eigh(subspace_hamiltonian)"
   ]
  },
  {
   "cell_type": "code",
   "execution_count": null,
   "metadata": {},
   "outputs": [],
   "source": [
    "indices = np.arange(evals.shape[0])\n",
    "plt.scatter(indices, evals)\n",
    "plt.title('26-qubit model ($2^{14}$ dim)')\n",
    "plt.xlabel('Index')\n",
    "plt.ylabel('Energy eigenvalue')"
   ]
  },
  {
   "cell_type": "code",
   "execution_count": null,
   "metadata": {},
   "outputs": [],
   "source": [
    "gs_probs = jnp.square(jnp.abs(evecs[:, 0]))\n",
    "plt.scatter(indices, gs_probs)\n",
    "plt.title('26-qubit model ground state distribution')\n",
    "plt.xlabel('State index')\n",
    "plt.ylabel('Probability')\n",
    "plt.ylim(-0.02, 1.02)\n",
    "plt.grid(True, axis='y')"
   ]
  },
  {
   "cell_type": "code",
   "execution_count": null,
   "metadata": {},
   "outputs": [],
   "source": [
    "sorted_prob = np.sort(gs_probs)[::-1]\n",
    "gs_cumul = np.cumsum(sorted_prob)\n",
    "plt.plot(indices, gs_cumul)\n",
    "plt.title('26-qubit model ground state CDF')\n",
    "plt.xlabel('State index (sorted)')\n",
    "plt.ylabel('Cumulative probability')\n",
    "plt.ylim(-0.02, 1.02)\n",
    "plt.grid(True, axis='y')"
   ]
  },
  {
   "cell_type": "code",
   "execution_count": null,
   "metadata": {},
   "outputs": [],
   "source": [
    "plt.plot(gs_cumul, sorted_prob)\n",
    "plt.title('26-qubit model concentration')\n",
    "plt.xlabel(r'$\\alpha = \\sum_{j=0}^{n} |c_j|^2$')\n",
    "plt.ylabel(r'$\\beta = |c_n|^2$')\n",
    "plt.ylim(-0.02, 1.02)\n",
    "plt.grid(True)"
   ]
  },
  {
   "cell_type": "markdown",
   "metadata": {},
   "source": [
    "## Coupling scan with 10 plaquettes"
   ]
  },
  {
   "cell_type": "code",
   "execution_count": 42,
   "metadata": {},
   "outputs": [],
   "source": [
    "configuration = '''\n",
    " * * *\n",
    "* * * *\n",
    " * * *\n",
    "'''\n",
    "lattice = TriangularZ2Lattice(configuration)\n",
    "flt = lattice.charge_subspace([0] * lattice.num_vertices)\n",
    "\n",
    "kvals = np.linspace(0.01, 4.01, 100, endpoint=False)\n",
    "sat_points = np.empty_like(kvals)\n",
    "\n",
    "for ik, kval in enumerate(kvals):\n",
    "    hamiltonian = lattice.make_hamiltonian(kval)\n",
    "    subspace_hamiltonian = hamiltonian.to_matrix(sparse=True)[flt[:, None], flt[None, :]]\n",
    "    subspace_hamiltonian = jnp.array(subspace_hamiltonian.todense())\n",
    "    evals, evecs = jnp.linalg.eigh(subspace_hamiltonian)\n",
    "    gs_probs = jnp.square(jnp.abs(evecs[:, 0]))\n",
    "    sorted_prob = np.sort(gs_probs)[::-1]\n",
    "    gs_cumul = np.cumsum(sorted_prob)\n",
    "    sat_points[ik] = gs_cumul.searchsorted(0.999)"
   ]
  },
  {
   "cell_type": "code",
   "execution_count": null,
   "metadata": {},
   "outputs": [],
   "source": [
    "plt.plot(kvals, sat_points)\n",
    "plt.title('99.9 percentile index')\n",
    "plt.axhline(0., color='black')\n",
    "plt.axhline(flt.shape[0], color='black')\n",
    "plt.xlim(0., kvals[-1])\n",
    "plt.ylabel('n where $\\sum_{j=0}^{n} |c_j|^2 > 0.999$', fontsize=12)\n",
    "plt.xlabel('K', fontsize=12)"
   ]
  },
  {
   "cell_type": "markdown",
   "metadata": {},
   "source": [
    "## Charge position scan with 14 plaquettes"
   ]
  },
  {
   "cell_type": "code",
   "execution_count": 53,
   "metadata": {},
   "outputs": [],
   "source": [
    "configuration = '''\n",
    " * * * *\n",
    "* * * * *\n",
    " * * * *\n",
    "'''\n",
    "lattice = TriangularZ2Lattice(configuration)\n",
    "hamiltonian = lattice.make_hamiltonian(0.5)\n",
    "\n",
    "gs_energies = []\n",
    "for charge_pos in range(5, 9):\n",
    "    target_parity = [0] * lattice.num_vertices\n",
    "    target_parity[4] = 1\n",
    "    target_parity[charge_pos] = 1\n",
    "    flt = lattice.charge_subspace(target_parity)\n",
    "    subspace_hamiltonian = hamiltonian.to_matrix(sparse=True)[flt[:, None], flt[None, :]]\n",
    "    subspace_hamiltonian = jnp.array(subspace_hamiltonian.todense())\n",
    "    evals, evecs = jnp.linalg.eigh(subspace_hamiltonian)\n",
    "    gs_energies.append(evals[0])"
   ]
  },
  {
   "cell_type": "code",
   "execution_count": null,
   "metadata": {},
   "outputs": [],
   "source": [
    "plt.scatter(np.arange(1, 5), np.array(gs_energies))\n",
    "plt.title('Ground state energies')\n",
    "plt.xlabel('Charge distance')\n",
    "plt.ylabel('E_0')"
   ]
  },
  {
   "cell_type": "code",
   "execution_count": null,
   "metadata": {},
   "outputs": [],
   "source": []
  }
 ],
 "metadata": {
  "kernelspec": {
   "display_name": "Python 3 (ipykernel)",
   "language": "python",
   "name": "python3"
  },
  "language_info": {
   "codemirror_mode": {
    "name": "ipython",
    "version": 3
   },
   "file_extension": ".py",
   "mimetype": "text/x-python",
   "name": "python",
   "nbconvert_exporter": "python",
   "pygments_lexer": "ipython3",
   "version": "3.10.12"
  }
 },
 "nbformat": 4,
 "nbformat_minor": 2
}
